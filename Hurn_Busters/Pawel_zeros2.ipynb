{
  "nbformat": 4,
  "nbformat_minor": 0,
  "metadata": {
    "colab": {
      "provenance": []
    },
    "kernelspec": {
      "name": "python3",
      "display_name": "Python 3"
    },
    "language_info": {
      "name": "python"
    }
  },
  "cells": [
    {
      "cell_type": "code",
      "execution_count": null,
      "metadata": {
        "collapsed": true,
        "id": "fc7l1FCy6Pts"
      },
      "outputs": [],
      "source": [
        "import numpy as np\n",
        "import pandas as pd\n",
        "import matplotlib.pyplot as plt\n",
        "import seaborn as sns\n",
        "from sklearn.svm import SVC\n",
        "from sklearn.model_selection import train_test_split\n",
        "from sklearn.preprocessing import StandardScaler\n",
        "from sklearn.linear_model import LogisticRegression\n",
        "from sklearn.metrics import accuracy_score, confusion_matrix, classification_report"
      ]
    },
    {
      "cell_type": "code",
      "source": [
        "def visual_comparison(df1: pd.DataFrame, df2: pd.DataFrame):\n",
        "\n",
        "    for feature in df1.columns:\n",
        "\n",
        "        plt.figure(figsize=(15, 2))\n",
        "        plt.subplot(1, 2, 1)\n",
        "        plt.hist(df1[feature], bins=30, alpha=0.5, color=\"blue\", edgecolor=\"black\")\n",
        "        plt.xlabel(feature)\n",
        "        plt.title(f\"Dataset_1 {feature}\")\n",
        "\n",
        "        plt.subplot(1, 2, 2)\n",
        "        plt.hist(df2[feature], bins=30, alpha=0.5, color=\"green\", edgecolor=\"black\")\n",
        "        plt.xlabel(feature)\n",
        "        plt.title(f\"Dataset_2 {feature}\")\n",
        "\n",
        "    cor_mat_df1 = df1.corr()\n",
        "    cor_mat_df2 = df2.corr()\n",
        "\n",
        "    plt.figure(figsize=(20, 5))\n",
        "    plt.subplot(1, 2, 1)\n",
        "    sns.heatmap(cor_mat_df1, annot=True, cmap=\"coolwarm\")\n",
        "\n",
        "    plt.subplot(1, 2, 2)\n",
        "    sns.heatmap(cor_mat_df2, annot=True, cmap=\"coolwarm\")\n",
        "\n",
        "    plt.show()\n",
        "\n",
        "    print(df1.describe())\n",
        "    print(df2.describe())"
      ],
      "metadata": {
        "id": "8JoCpJ_1KFRP"
      },
      "execution_count": null,
      "outputs": []
    },
    {
      "cell_type": "code",
      "source": [
        "data = pd.read_csv(\"new_isc_04.csv\")\n",
        "data = data.drop(columns=['is_tv_subscriber', 'is_movie_package_subscriber',\n",
        "       'bill_avg', 'remaining_contract',\n",
        "       'service_failure_count', 'download_avg', 'upload_avg',\n",
        "       'download_over_limit' ])\n",
        "\n",
        "print(data.shape)\n",
        "print(data.columns)"
      ],
      "metadata": {
        "id": "ZT_VlgRv7CHH",
        "collapsed": true,
        "colab": {
          "base_uri": "https://localhost:8080/"
        },
        "outputId": "ff8355c6-e3e5-4452-cdb4-9ff4c458a7a9"
      },
      "execution_count": null,
      "outputs": [
        {
          "output_type": "stream",
          "name": "stdout",
          "text": [
            "(62274, 3)\n",
            "Index(['id', 'subscription_age', 'churn'], dtype='object')\n"
          ]
        }
      ]
    },
    {
      "cell_type": "code",
      "source": [
        "# sprawdzenie pustych kolumn dla datasetu:\n",
        "empty_cells = {column_name: data[column_name].isna().sum() for column_name in data.columns}\n",
        "print(empty_cells)"
      ],
      "metadata": {
        "id": "7Wfw74Sz7UPQ",
        "colab": {
          "base_uri": "https://localhost:8080/"
        },
        "collapsed": true,
        "outputId": "b3fab81b-8ab6-4700-d181-d8d09cb0305e"
      },
      "execution_count": null,
      "outputs": [
        {
          "output_type": "stream",
          "name": "stdout",
          "text": [
            "{'id': 0, 'subscription_age': 0, 'churn': 0}\n"
          ]
        }
      ]
    },
    {
      "cell_type": "code",
      "source": [
        "# Uzupelnienie pustych wartości zerami\n",
        "mydata = data.fillna(0)\n",
        "empty_cells = {column_name: mydata[column_name].isna().sum() for column_name in mydata.columns}\n",
        "print(empty_cells)"
      ],
      "metadata": {
        "id": "S4JLeh547btx",
        "colab": {
          "base_uri": "https://localhost:8080/"
        },
        "outputId": "2efce882-ae9d-4615-e2f9-61a2698180f6"
      },
      "execution_count": null,
      "outputs": [
        {
          "output_type": "stream",
          "name": "stdout",
          "text": [
            "{'is_tv_subscriber': 0, 'is_movie_package_subscriber': 0, 'subscription_age': 0, 'remaining_contract': 0, 'service_failure_count': 0, 'download_avg': 0, 'upload_avg': 0, 'download_over_limit': 0, 'churn': 0}\n"
          ]
        }
      ]
    },
    {
      "cell_type": "code",
      "source": [
        "columns = mydata.columns\n",
        "\n",
        "bin_features = ['is_tv_subscriber', 'is_movie_package_subscriber']\n",
        "churn_features = 'churn'\n",
        "\n",
        "non_bin_features = columns.difference(bin_features + [churn_features])\n",
        "non_bin_data = mydata[non_bin_features]\n",
        "\n",
        "scaler = StandardScaler()\n",
        "scaled_data = scaler.fit_transform(non_bin_data)\n",
        "churn_data = mydata[[churn_features]]\n",
        "scaled_data = pd.DataFrame(scaled_data, columns=non_bin_features)\n",
        "final_date = pd.concat([mydata[bin_features],scaled_data], axis=1)\n",
        "final_data = pd.concat([final_date, churn_data.reset_index(drop=True)], axis=1)\n",
        "final_data= final_data.apply(lambda x: x.fillna(x.mean()), axis=0)"
      ],
      "metadata": {
        "id": "9tdYV8_cm_26"
      },
      "execution_count": null,
      "outputs": []
    },
    {
      "cell_type": "code",
      "source": [
        "reorganize = ['is_tv_subscriber', 'is_movie_package_subscriber',\n",
        "             'subscription_age', 'remaining_contract',\n",
        "             'service_failure_count', 'download_avg', 'upload_avg',\n",
        "             'download_over_limit', 'churn']\n",
        "\n",
        "final_data = final_data[reorganize]\n",
        "print(final_data.shape)\n",
        "print(final_data.columns)"
      ],
      "metadata": {
        "collapsed": true,
        "id": "t3dcYO3EHBop",
        "colab": {
          "base_uri": "https://localhost:8080/"
        },
        "outputId": "b528beb5-1e4a-4583-e1b1-31082817f7da"
      },
      "execution_count": null,
      "outputs": [
        {
          "output_type": "stream",
          "name": "stdout",
          "text": [
            "(62274, 9)\n",
            "Index(['is_tv_subscriber', 'is_movie_package_subscriber', 'subscription_age',\n",
            "       'remaining_contract', 'service_failure_count', 'download_avg',\n",
            "       'upload_avg', 'download_over_limit', 'churn'],\n",
            "      dtype='object')\n"
          ]
        }
      ]
    },
    {
      "cell_type": "code",
      "source": [
        "X_train, X_test, y_train, y_test = train_test_split(data.drop(columns=['churn']), data['churn'], test_size=0.2, random_state=42)"
      ],
      "metadata": {
        "id": "bRInzzRaKeyA"
      },
      "execution_count": null,
      "outputs": []
    },
    {
      "cell_type": "code",
      "source": [
        "visual_comparison(X_train, X_test)"
      ],
      "metadata": {
        "collapsed": true,
        "id": "7pID3FIWIccL",
        "colab": {
          "base_uri": "https://localhost:8080/",
          "height": 1000
        },
        "outputId": "71523065-9b0d-4cfc-8f54-eb1eb204a6a5"
      },
      "execution_count": null,
      "outputs": [
        {
          "output_type": "display_data",
          "data": {
            "text/plain": [
              "<Figure size 1500x200 with 2 Axes>"
            ],
            "image/png": "[encoded data removed]"
          },
          "metadata": {}
        },
        {
          "output_type": "display_data",
          "data": {
            "text/plain": [
              "<Figure size 1500x200 with 2 Axes>"
            ],
            "image/png": "[encoded data removed]"
          },
          "metadata": {}
        },
        {
          "output_type": "display_data",
          "data": {
            "text/plain": [
              "<Figure size 2000x500 with 4 Axes>"
            ],
            "image/png": "[encoded data removed]"
          },
          "metadata": {}
        },
        {
          "output_type": "stream",
          "name": "stdout",
          "text": [
            "                 id  subscription_age\n",
            "count  4.981900e+04      49819.000000\n",
            "mean   8.450156e+05          2.456733\n",
            "std    4.889667e+05          2.042096\n",
            "min    1.500000e+01         -0.020000\n",
            "25%    4.230130e+05          0.930000\n",
            "50%    8.446030e+05          1.980000\n",
            "75%    1.267598e+06          3.310000\n",
            "max    1.689733e+06         12.800000\n",
            "                 id  subscription_age\n",
            "count  1.245500e+04      12455.000000\n",
            "mean   8.511070e+05          2.432049\n",
            "std    4.897032e+05          2.010239\n",
            "min    3.400000e+01          0.000000\n",
            "25%    4.223655e+05          0.920000\n",
            "50%    8.585300e+05          1.980000\n",
            "75%    1.274187e+06          3.290000\n",
            "max    1.689324e+06         12.300000\n"
          ]
        }
      ]
    },
    {
      "cell_type": "code",
      "source": [
        "# Regresja Logistyczna dla pełnego datasetu:\n",
        "model = LogisticRegression()\n",
        "model.fit(X_train, y_train)\n",
        "\n",
        "y_pred = model.predict(X_test)\n",
        "accuracy = accuracy_score(y_test, y_pred)\n",
        "conf_matrix = confusion_matrix(y_test, y_pred)\n",
        "class_report = classification_report(y_test, y_pred)\n",
        "\n",
        "print(f\"Accuracy: {accuracy}\")\n",
        "print(\"\\nConfusion Matrix:\")\n",
        "print(conf_matrix)\n",
        "print(\"\\nClassification Report:\")\n",
        "print(class_report)"
      ],
      "metadata": {
        "id": "tTp9mgPQFeAP",
        "colab": {
          "base_uri": "https://localhost:8080/"
        },
        "outputId": "9593bffa-8853-40a5-96bd-54942e924c0c"
      },
      "execution_count": null,
      "outputs": [
        {
          "output_type": "stream",
          "name": "stdout",
          "text": [
            "Accuracy: 0.45291047771979126\n",
            "\n",
            "Confusion Matrix:\n",
            "[[5641    0]\n",
            " [6814    0]]\n",
            "\n",
            "Classification Report:\n",
            "              precision    recall  f1-score   support\n",
            "\n",
            "           0       0.45      1.00      0.62      5641\n",
            "           1       0.00      0.00      0.00      6814\n",
            "\n",
            "    accuracy                           0.45     12455\n",
            "   macro avg       0.23      0.50      0.31     12455\n",
            "weighted avg       0.21      0.45      0.28     12455\n",
            "\n"
          ]
        },
        {
          "output_type": "stream",
          "name": "stderr",
          "text": [
            "/usr/local/lib/python3.10/dist-packages/sklearn/metrics/_classification.py:1344: UndefinedMetricWarning: Precision and F-score are ill-defined and being set to 0.0 in labels with no predicted samples. Use `zero_division` parameter to control this behavior.\n",
            "  _warn_prf(average, modifier, msg_start, len(result))\n",
            "/usr/local/lib/python3.10/dist-packages/sklearn/metrics/_classification.py:1344: UndefinedMetricWarning: Precision and F-score are ill-defined and being set to 0.0 in labels with no predicted samples. Use `zero_division` parameter to control this behavior.\n",
            "  _warn_prf(average, modifier, msg_start, len(result))\n",
            "/usr/local/lib/python3.10/dist-packages/sklearn/metrics/_classification.py:1344: UndefinedMetricWarning: Precision and F-score are ill-defined and being set to 0.0 in labels with no predicted samples. Use `zero_division` parameter to control this behavior.\n",
            "  _warn_prf(average, modifier, msg_start, len(result))\n"
          ]
        }
      ]
    },
    {
      "cell_type": "code",
      "source": [
        "# model SVC dla pełnego datasetu:\n",
        "svm_model = SVC()\n",
        "\n",
        "svm_model.fit(X_train, y_train)\n",
        "\n",
        "y_pred_svm = svm_model.predict(X_test)\n",
        "accuracy_svm = accuracy_score(y_test, y_pred_svm)\n",
        "conf_matrix_svm = confusion_matrix(y_test, y_pred_svm)\n",
        "class_report_svm = classification_report(y_test, y_pred_svm)\n",
        "\n",
        "print(\"Support Vector Machine Model\")\n",
        "print(f\"Accuracy: {accuracy_svm}\")\n",
        "print(\"Confusion Matrix:\")\n",
        "print(conf_matrix_svm)\n",
        "print(\"Classification Report:\")\n",
        "print(class_report_svm)"
      ],
      "metadata": {
        "id": "jOrwUXtGKZi8",
        "colab": {
          "base_uri": "https://localhost:8080/"
        },
        "collapsed": true,
        "outputId": "5f9443e6-b8ff-478a-be63-46578eed86df"
      },
      "execution_count": null,
      "outputs": [
        {
          "output_type": "stream",
          "name": "stdout",
          "text": [
            "Support Vector Machine Model\n",
            "Accuracy: 0.7161782416700121\n",
            "Confusion Matrix:\n",
            "[[3608 2033]\n",
            " [1502 5312]]\n",
            "Classification Report:\n",
            "              precision    recall  f1-score   support\n",
            "\n",
            "           0       0.71      0.64      0.67      5641\n",
            "           1       0.72      0.78      0.75      6814\n",
            "\n",
            "    accuracy                           0.72     12455\n",
            "   macro avg       0.71      0.71      0.71     12455\n",
            "weighted avg       0.72      0.72      0.71     12455\n",
            "\n"
          ]
        }
      ]
    },
    {
      "cell_type": "code",
      "source": [
        "# Random Forest dla pełnego datasetu\n",
        "from sklearn.ensemble import RandomForestClassifier\n",
        "from sklearn.metrics import accuracy_score, confusion_matrix, classification_report\n",
        "\n",
        "rf_model = RandomForestClassifier(random_state=42)\n",
        "\n",
        "rf_model.fit(X_train, y_train)\n",
        "\n",
        "y_pred_rf = rf_model.predict(X_test)\n",
        "accuracy_rf = accuracy_score(y_test, y_pred_rf)\n",
        "conf_matrix_rf = confusion_matrix(y_test, y_pred_rf)\n",
        "class_report_rf = classification_report(y_test, y_pred_rf)\n",
        "\n",
        "print(\"Random Forest Model\")\n",
        "print(f\"Accuracy: {accuracy_rf}\")\n",
        "print(\"\\nConfusion Matrix:\")\n",
        "print(conf_matrix_rf)\n",
        "print(\"\\nClassification Report:\")\n",
        "print(class_report_rf)"
      ],
      "metadata": {
        "id": "1h4ckgGfp6Ph",
        "colab": {
          "base_uri": "https://localhost:8080/"
        },
        "collapsed": true,
        "outputId": "73e4844f-dcb4-4102-da3a-f9895a4b109b"
      },
      "execution_count": null,
      "outputs": [
        {
          "output_type": "stream",
          "name": "stdout",
          "text": [
            "Random Forest Model\n",
            "Accuracy: 0.9896427137695705\n",
            "\n",
            "Confusion Matrix:\n",
            "[[5628   13]\n",
            " [ 116 6698]]\n",
            "\n",
            "Classification Report:\n",
            "              precision    recall  f1-score   support\n",
            "\n",
            "           0       0.98      1.00      0.99      5641\n",
            "           1       1.00      0.98      0.99      6814\n",
            "\n",
            "    accuracy                           0.99     12455\n",
            "   macro avg       0.99      0.99      0.99     12455\n",
            "weighted avg       0.99      0.99      0.99     12455\n",
            "\n"
          ]
        }
      ]
    },
    {
      "cell_type": "code",
      "source": [
        "# model sieć neuronowa dla pełnego datasetu\n",
        "import tensorflow as tf\n",
        "\n",
        "model = tf.keras.Sequential([\n",
        "    tf.keras.layers.Dense(64, activation='relu', input_shape=(X_train.shape[1],)),\n",
        "    tf.keras.layers.Dense(32, activation='relu'),\n",
        "    tf.keras.layers.Dense(16, activation='relu'),\n",
        "    tf.keras.layers.Dense(8, activation='relu'),\n",
        "    tf.keras.layers.Dense(1, activation='sigmoid')\n",
        "])\n",
        "\n",
        "# Kompilacja modelu\n",
        "model.compile(optimizer='adam',\n",
        "              loss='binary_crossentropy',\n",
        "              metrics=['accuracy'])\n",
        "\n",
        "# Trenowanie modelu\n",
        "model.fit(X_train, y_train, epochs=10, batch_size=16, verbose=1)\n",
        "\n",
        "# Ewaluacja modelu\n",
        "loss, accuracy = model.evaluate(X_test, y_test, verbose=0)\n",
        "print(f'Test loss: {loss:.4f}')\n",
        "print(f'Test accuracy: {accuracy:.4f}')"
      ],
      "metadata": {
        "id": "jK6utpRlrAAe",
        "colab": {
          "base_uri": "https://localhost:8080/"
        },
        "collapsed": true,
        "outputId": "09f05209-fb7e-4e00-d64c-72d54eb19e8b"
      },
      "execution_count": null,
      "outputs": [
        {
          "output_type": "stream",
          "name": "stdout",
          "text": [
            "Epoch 1/10\n",
            "3114/3114 [==============================] - 9s 3ms/step - loss: 629.3345 - accuracy: 0.4932\n",
            "Epoch 2/10\n",
            "3114/3114 [==============================] - 7s 2ms/step - loss: 149.4040 - accuracy: 0.5024\n",
            "Epoch 3/10\n",
            "3114/3114 [==============================] - 8s 2ms/step - loss: 22.6242 - accuracy: 0.5534\n",
            "Epoch 4/10\n",
            "3114/3114 [==============================] - 6s 2ms/step - loss: 2.9676 - accuracy: 0.6805\n",
            "Epoch 5/10\n",
            "3114/3114 [==============================] - 8s 2ms/step - loss: 4.1917 - accuracy: 0.6825\n",
            "Epoch 6/10\n",
            "3114/3114 [==============================] - 6s 2ms/step - loss: 1.1168 - accuracy: 0.5999\n",
            "Epoch 7/10\n",
            "3114/3114 [==============================] - 8s 3ms/step - loss: 0.6870 - accuracy: 0.5557\n",
            "Epoch 8/10\n",
            "3114/3114 [==============================] - 6s 2ms/step - loss: 0.6870 - accuracy: 0.5558\n",
            "Epoch 9/10\n",
            "3114/3114 [==============================] - 8s 2ms/step - loss: 2.1219 - accuracy: 0.5555\n",
            "Epoch 10/10\n",
            "3114/3114 [==============================] - 6s 2ms/step - loss: 1.2615 - accuracy: 0.5557\n",
            "Test loss: 0.6887\n",
            "Test accuracy: 0.5471\n"
          ]
        }
      ]
    }
  ]
}