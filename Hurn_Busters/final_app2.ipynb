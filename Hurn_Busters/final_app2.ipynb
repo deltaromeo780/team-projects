{
  "nbformat": 4,
  "nbformat_minor": 0,
  "metadata": {
    "colab": {
      "provenance": []
    },
    "kernelspec": {
      "name": "python3",
      "display_name": "Python 3"
    },
    "language_info": {
      "name": "python"
    }
  },
  "cells": [
    {
      "cell_type": "code",
      "source": [
        "%pip install joblib"
      ],
      "metadata": {
        "colab": {
          "base_uri": "https://localhost:8080/"
        },
        "id": "vzJMz1DuJlI5",
        "outputId": "5f6bebf1-1d25-4a1a-a2bc-cb969c1f4281"
      },
      "execution_count": null,
      "outputs": [
        {
          "output_type": "stream",
          "name": "stdout",
          "text": [
            "Requirement already satisfied: joblib in /usr/local/lib/python3.10/dist-packages (1.4.2)\n"
          ]
        }
      ]
    },
    {
      "cell_type": "code",
      "execution_count": null,
      "metadata": {
        "id": "toPSkJ1mzlKl"
      },
      "outputs": [],
      "source": [
        "import pandas as pd\n",
        "import numpy as np\n",
        "import joblib\n",
        "import load_data as ld\n",
        "from sklearn.model_selection import train_test_split\n",
        "from sklearn.preprocessing import StandardScaler"
      ]
    },
    {
      "cell_type": "code",
      "source": [
        "data = pd.read_csv(\"new_isc_04.csv\")\n",
        "print(data.shape)\n",
        "print(data.columns)"
      ],
      "metadata": {
        "colab": {
          "base_uri": "https://localhost:8080/"
        },
        "id": "_7DmqcWU0An8",
        "outputId": "d942c1a9-08ce-4bfa-e7f7-f343202841ce"
      },
      "execution_count": null,
      "outputs": [
        {
          "output_type": "stream",
          "name": "stdout",
          "text": [
            "(62274, 11)\n",
            "Index(['id', 'is_tv_subscriber', 'is_movie_package_subscriber',\n",
            "       'subscription_age', 'bill_avg', 'remaining_contract',\n",
            "       'service_failure_count', 'download_avg', 'upload_avg',\n",
            "       'download_over_limit', 'churn'],\n",
            "      dtype='object')\n"
          ]
        }
      ]
    },
    {
      "cell_type": "code",
      "source": [
        "# sprawdzenie pustych kolumn dla datasetu:\n",
        "empty_cells = {column_name: data[column_name].isna().sum() for column_name in data.columns}\n",
        "print(empty_cells)"
      ],
      "metadata": {
        "colab": {
          "base_uri": "https://localhost:8080/"
        },
        "id": "1ZUWbKkl0DmL",
        "outputId": "5c3af0ab-507f-472d-eb41-d7363050a01e"
      },
      "execution_count": null,
      "outputs": [
        {
          "output_type": "stream",
          "name": "stdout",
          "text": [
            "{'id': 0, 'is_tv_subscriber': 0, 'is_movie_package_subscriber': 0, 'subscription_age': 0, 'bill_avg': 0, 'remaining_contract': 18524, 'service_failure_count': 0, 'download_avg': 331, 'upload_avg': 331, 'download_over_limit': 0, 'churn': 0}\n"
          ]
        }
      ]
    },
    {
      "cell_type": "code",
      "source": [
        "# Uzupelnienie pustych wartości zerami\n",
        "data = data.fillna(0)\n",
        "empty_cells = {column_name: data[column_name].isna().sum() for column_name in data.columns}\n",
        "print(empty_cells)"
      ],
      "metadata": {
        "colab": {
          "base_uri": "https://localhost:8080/"
        },
        "id": "MgJph9av3BsR",
        "outputId": "4b10b58c-af24-4d5f-a5c9-0a6434441e02"
      },
      "execution_count": null,
      "outputs": [
        {
          "output_type": "stream",
          "name": "stdout",
          "text": [
            "{'id': 0, 'is_tv_subscriber': 0, 'is_movie_package_subscriber': 0, 'subscription_age': 0, 'bill_avg': 0, 'remaining_contract': 0, 'service_failure_count': 0, 'download_avg': 0, 'upload_avg': 0, 'download_over_limit': 0, 'churn': 0}\n"
          ]
        }
      ]
    },
    {
      "cell_type": "code",
      "source": [
        "# podział datasetu\n",
        "X_train, X_test, y_train, y_test = train_test_split(data.drop(columns=['churn']), data['churn'], test_size=0.2, random_state=42)"
      ],
      "metadata": {
        "id": "_qM54BGpCiLo"
      },
      "execution_count": null,
      "outputs": []
    },
    {
      "cell_type": "code",
      "source": [
        "# skalowanie danych i zapis wyuczonego skalera\n",
        "\n",
        "binaries = ['is_tv_subscriber', 'is_movie_package_subscriber']\n",
        "numbers = [\n",
        "            'id', 'subscription_age', 'bill_avg', 'remaining_contract',\n",
        "            'service_failure_count', 'download_avg','upload_avg',\n",
        "            'download_over_limit'\n",
        "            ]\n",
        "\n",
        "# Tworzenie skalera tylko dla numerycznych kolumn\n",
        "scaler = StandardScaler()\n",
        "X_train_num = scaler.fit_transform(X_train[numbers])\n",
        "X_test_num = scaler.transform(X_test[numbers])\n",
        "\n",
        "# Połączenie przeskalowanych numerycznych danych z binarnymi danymi\n",
        "X_train_scaled = np.hstack((X_train[binaries].values, X_train_num))\n",
        "X_test_scaled = np.hstack((X_test[binaries].values, X_test_num))\n",
        "\n",
        "joblib.dump(scaler, 'scaler.sav')\n",
        "\n"
      ],
      "metadata": {
        "id": "z1yX_Hxo0J_c",
        "colab": {
          "base_uri": "https://localhost:8080/"
        },
        "outputId": "dd4ef9b9-97cc-48b5-b58e-74341ce70a64"
      },
      "execution_count": null,
      "outputs": [
        {
          "output_type": "execute_result",
          "data": {
            "text/plain": [
              "['scaler.sav']"
            ]
          },
          "metadata": {},
          "execution_count": 8
        }
      ]
    },
    {
      "cell_type": "code",
      "source": [
        "def count_zeros_ones(y_predict):\n",
        "    predict_zeros = np.sum(y_predict == 0)\n",
        "    predict_ones = np.sum(y_predict == 1)\n",
        "\n",
        "\n",
        "    print(f\"y: 0 = {predict_zeros}, 1 = {predict_ones}\")\n"
      ],
      "metadata": {
        "id": "G36xEgnXSrl0"
      },
      "execution_count": null,
      "outputs": []
    },
    {
      "cell_type": "code",
      "source": [
        "# Utworzenie modelu Random Forest i zapisanie wyuczonego modelu\n",
        "from sklearn.ensemble import RandomForestClassifier\n",
        "from sklearn.metrics import accuracy_score, confusion_matrix, classification_report\n",
        "\n",
        "rf_model = RandomForestClassifier(random_state=42)\n",
        "\n",
        "rf_model.fit(X_train, y_train)\n",
        "\n",
        "y_pred_rf = rf_model.predict(X_test)\n",
        "accuracy_rf = accuracy_score(y_test, y_pred_rf)\n",
        "conf_matrix_rf = confusion_matrix(y_test, y_pred_rf)\n",
        "class_report_rf = classification_report(y_test, y_pred_rf)\n",
        "\n",
        "print(\"Random Forest Model\")\n",
        "print(f\"Accuracy: {accuracy_rf}\")\n",
        "print(\"\\nConfusion Matrix:\")\n",
        "print(conf_matrix_rf)\n",
        "print(\"\\nClassification Report:\")\n",
        "print(class_report_rf)\n",
        "print(count_zeros_ones(y_pred_rf))\n",
        "print(count_zeros_ones(y_test))\n",
        "\n",
        "joblib.dump(rf_model, 'random_forest_model.sav')\n"
      ],
      "metadata": {
        "colab": {
          "base_uri": "https://localhost:8080/"
        },
        "id": "MWUY_qvi1GTI",
        "outputId": "526c13f6-152d-4cc4-fbb0-3cb5ff60b9fe"
      },
      "execution_count": null,
      "outputs": [
        {
          "output_type": "stream",
          "name": "stdout",
          "text": [
            "Random Forest Model\n",
            "Accuracy: 0.9694098755519871\n",
            "\n",
            "Confusion Matrix:\n",
            "[[5437  204]\n",
            " [ 177 6637]]\n",
            "\n",
            "Classification Report:\n",
            "              precision    recall  f1-score   support\n",
            "\n",
            "           0       0.97      0.96      0.97      5641\n",
            "           1       0.97      0.97      0.97      6814\n",
            "\n",
            "    accuracy                           0.97     12455\n",
            "   macro avg       0.97      0.97      0.97     12455\n",
            "weighted avg       0.97      0.97      0.97     12455\n",
            "\n",
            "y: 0 = 5614, 1 = 6841\n",
            "None\n",
            "y: 0 = 5641, 1 = 6814\n",
            "None\n"
          ]
        },
        {
          "output_type": "execute_result",
          "data": {
            "text/plain": [
              "['random_forest_model.sav']"
            ]
          },
          "metadata": {},
          "execution_count": 27
        }
      ]
    },
    {
      "cell_type": "code",
      "source": [
        "# przewidywanie dla sekretnej próbki secret_isc_04.csv\n",
        "new_X = pd.read_csv(\"secret_isc_04.csv\")\n",
        "print(new_X.shape)\n",
        "print(new_X.columns)\n",
        "\n",
        "# sprawdzenie pustych kolumn dla datasetu:\n",
        "empty_cells = {column_name: new_X[column_name].isna().sum() for column_name in new_X.columns}\n",
        "print(empty_cells)\n",
        "# Uzupelnienie pustych wartości zerami\n",
        "new_X = new_X.fillna(0)\n",
        "empty_cells = {column_name: new_X[column_name].isna().sum() for column_name in new_X.columns}\n",
        "print(empty_cells)\n"
      ],
      "metadata": {
        "colab": {
          "base_uri": "https://localhost:8080/"
        },
        "id": "wctePC-nFAXP",
        "outputId": "32e034a3-1770-47cb-a497-4fdb83a350c3"
      },
      "execution_count": null,
      "outputs": [
        {
          "output_type": "stream",
          "name": "stdout",
          "text": [
            "(10000, 11)\n",
            "Index(['id', 'is_tv_subscriber', 'is_movie_package_subscriber',\n",
            "       'subscription_age', 'bill_avg', 'remaining_contract',\n",
            "       'service_failure_count', 'download_avg', 'upload_avg',\n",
            "       'download_over_limit', 'churn'],\n",
            "      dtype='object')\n",
            "{'id': 0, 'is_tv_subscriber': 0, 'is_movie_package_subscriber': 0, 'subscription_age': 0, 'bill_avg': 0, 'remaining_contract': 3048, 'service_failure_count': 0, 'download_avg': 50, 'upload_avg': 50, 'download_over_limit': 0, 'churn': 0}\n",
            "{'id': 0, 'is_tv_subscriber': 0, 'is_movie_package_subscriber': 0, 'subscription_age': 0, 'bill_avg': 0, 'remaining_contract': 0, 'service_failure_count': 0, 'download_avg': 0, 'upload_avg': 0, 'download_over_limit': 0, 'churn': 0}\n"
          ]
        }
      ]
    },
    {
      "cell_type": "code",
      "source": [
        "loaded_model = joblib.load('random_forest_model.sav')\n",
        "loaded_scaler = joblib.load('scaler.sav')\n",
        "\n",
        "\n",
        "binaries = ['is_tv_subscriber', 'is_movie_package_subscriber']\n",
        "numbers = [\n",
        "            'id', 'subscription_age', 'bill_avg', 'remaining_contract',\n",
        "            'service_failure_count', 'download_avg','upload_avg',\n",
        "            'download_over_limit'\n",
        "            ]\n",
        "\n",
        "\n",
        "# # Przewidywanie na nowych danych\n",
        "new_X_bin = new_X[binaries].values\n",
        "new_X_num = loaded_scaler.transform(new_X[numbers])\n",
        "# Połączenie przeskalowanych numerycznych danych z binarnymi danymi\n",
        "new_X_scaled = np.hstack((new_X_bin, new_X_num))\n",
        "y_pred_loaded = loaded_model.predict(new_X_scaled)"
      ],
      "metadata": {
        "id": "yx0AmJuaEGYG",
        "colab": {
          "base_uri": "https://localhost:8080/"
        },
        "outputId": "039e1809-7b02-4c2b-c0bc-777c95145eb3"
      },
      "execution_count": null,
      "outputs": [
        {
          "output_type": "stream",
          "name": "stderr",
          "text": [
            "/usr/local/lib/python3.10/dist-packages/sklearn/base.py:439: UserWarning: X does not have valid feature names, but RandomForestClassifier was fitted with feature names\n",
            "  warnings.warn(\n"
          ]
        }
      ]
    },
    {
      "cell_type": "code",
      "source": [
        "print(f\"przewidywanie odejscie klienta {y_pred_loaded}\")\n",
        "print(count_zeros_ones(y_pred_loaded))"
      ],
      "metadata": {
        "colab": {
          "base_uri": "https://localhost:8080/"
        },
        "id": "RPXmxgHEWRIa",
        "outputId": "df11e67c-16be-46cb-e5dd-fa06e767dc40"
      },
      "execution_count": null,
      "outputs": [
        {
          "output_type": "stream",
          "name": "stdout",
          "text": [
            "przewidywanie odejscie klienta [1 1 1 ... 1 1 1]\n",
            "y: 0 = 4, 1 = 9996\n",
            "None\n"
          ]
        }
      ]
    },
    {
      "cell_type": "code",
      "source": [
        "\\# przewidywanie zachowania  dla pojedynczego klienta\n",
        "loaded_model = joblib.load('random_forest_model.sav')\n",
        "loaded_scaler = joblib.load('scaler.sav')\n",
        "new_X = ld.get_user_data()\n",
        "\n",
        "binaries = ['is_tv_subscriber', 'is_movie_package_subscriber']\n",
        "numbers = [\n",
        "            'id', 'subscription_age', 'bill_avg', 'remaining_contract',\n",
        "            'service_failure_count', 'download_avg','upload_avg',\n",
        "            'download_over_limit'\n",
        "            ]\n",
        "\n",
        "\n",
        "# # Przewidywanie na nowych danych\n",
        "new_X_bin = new_X[binaries].values\n",
        "new_X_num = loaded_scaler.transform(new_X[numbers])\n",
        "new_X_scaled = np.hstack((new_X_bin, new_X_num))\n",
        "y_pred_loaded = loaded_model.predict(new_X_scaled)\n"
      ],
      "metadata": {
        "id": "ec7a4pVoLK42",
        "collapsed": true,
        "colab": {
          "base_uri": "https://localhost:8080/"
        },
        "outputId": "d8cbad11-5dbd-45ef-8a90-1900490f2759"
      },
      "execution_count": null,
      "outputs": [
        {
          "name": "stdout",
          "output_type": "stream",
          "text": [
            "Podaj id klienta: 10\n",
            "Czy klient posiada tv? Yes or No: yes\n",
            "Czy klient posiada pakiet wideo? Yes or No: no\n",
            "Jak długo klient posiada subskrypcję (w miesiącach)? 36\n",
            "Średnia miesięczna ilość opłaty (w PLN): 450\n",
            "Ile czasu pozostało umowy (w miesiącach)? 36\n",
            "Ile razy zgłaszał problem z serwisem? 0\n",
            "Średnia miesięczna ilość pobranych danych (w GB): 1000\n",
            "Średnia miesięczna ilość wysłanych danych (w GB): 500\n",
            "Ile razy klient przekroczył przyznany limit danych? 4\n"
          ]
        },
        {
          "output_type": "stream",
          "name": "stderr",
          "text": [
            "/usr/local/lib/python3.10/dist-packages/sklearn/base.py:439: UserWarning: X does not have valid feature names, but RandomForestClassifier was fitted with feature names\n",
            "  warnings.warn(\n"
          ]
        }
      ]
    },
    {
      "cell_type": "code",
      "source": [
        "print(f\"przewidywanie odejscie klienta {y_pred_loaded}\")"
      ],
      "metadata": {
        "id": "3X9qyEFwVTZi",
        "colab": {
          "base_uri": "https://localhost:8080/"
        },
        "collapsed": true,
        "outputId": "e6134a9e-3c3e-48dd-9a69-7a599493cc97"
      },
      "execution_count": null,
      "outputs": [
        {
          "output_type": "stream",
          "name": "stdout",
          "text": [
            "przewidywanie odejscie klienta [0]\n"
          ]
        }
      ]
    }
  ]
}